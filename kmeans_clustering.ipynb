{
 "cells": [
  {
   "cell_type": "code",
   "execution_count": 1,
   "metadata": {},
   "outputs": [],
   "source": [
    "from sklearn.cluster import KMeans\n",
    "from sklearn.metrics import silhouette_score\n",
    "import pandas as pd"
   ]
  },
  {
   "attachments": {},
   "cell_type": "markdown",
   "metadata": {},
   "source": [
    "# KMeans Klassen"
   ]
  },
  {
   "cell_type": "code",
   "execution_count": 2,
   "metadata": {},
   "outputs": [],
   "source": [
    "df = pd.read_csv('clusters/clusters - multi.csv')\n",
    "vectors = df.iloc[:, 2:].to_numpy()\n",
    "labels = df['true_label'].to_list()"
   ]
  },
  {
   "cell_type": "code",
   "execution_count": 29,
   "metadata": {},
   "outputs": [
    {
     "name": "stdout",
     "output_type": "stream",
     "text": [
      "Best paramters: random_state: 6, number of clusters: 3, -> silhouette score: 0.5903504901732399\n"
     ]
    }
   ],
   "source": [
    "# best parameter search\n",
    "\n",
    "s_score = {}\n",
    "for random_state in range(1000):\n",
    "    for clusters in range(2, 10):\n",
    "        kmeans = KMeans(n_clusters=clusters, random_state=random_state, n_init='auto').fit(vectors)\n",
    "        s_score[(random_state, clusters)] = silhouette_score(vectors, kmeans.labels_, metric='cosine')\n",
    "\n",
    "best_params = sorted(s_score.items(), key=lambda x: x[1], reverse=True)[0]\n",
    "print(f'Best paramters: random_state: {best_params[0][0]}, number of clusters: {best_params[0][1]}, -> silhouette score: {best_params[1]}')\n",
    "\n",
    "kmeans = KMeans(n_clusters=best_params[0][1], random_state=best_params[0][0], n_init='auto').fit(vectors)"
   ]
  },
  {
   "cell_type": "code",
   "execution_count": 28,
   "metadata": {},
   "outputs": [
    {
     "name": "stdout",
     "output_type": "stream",
     "text": [
      "0: PMD:Methods, NIC:Intervention, NIC:Study Design, NIC:Population, NIC:Other, DRI:Approach, DRI:Futurework, ART:Goal, ART:Object, ART:Experiment, ART:Model, ART:Method\n",
      "1: PMD:Results, PMD:Conclusions, NIC:Outcome, DRI:Outcome, ART:Hypothesis, ART:Observation, ART:Result, ART:Conclusion\n",
      "2: PMD:Background, PMD:Objective, NIC:Background, DRI:Background, DRI:Challenge, ART:Background, ART:Motivation\n"
     ]
    }
   ],
   "source": [
    "groups = [[] for _ in range(len(kmeans.cluster_centers_))]\n",
    "for i, label in enumerate(kmeans.labels_):\n",
    "    groups[label].append(labels[i]) \n",
    "\n",
    "for i, group in enumerate(groups):\n",
    "    print(f'{i}: {\", \".join(group)}')"
   ]
  },
  {
   "attachments": {},
   "cell_type": "markdown",
   "metadata": {},
   "source": [
    "# Arthurs Klassen"
   ]
  },
  {
   "cell_type": "code",
   "execution_count": 26,
   "metadata": {},
   "outputs": [
    {
     "name": "stdout",
     "output_type": "stream",
     "text": [
      "0: ART:mask, DRI:mask, PMD:mask, NIC:mask\n",
      "1: ART:Background, ART:Motivation, DRI:Background, PMD:BACKGROUND, NIC:background\n",
      "2: ART:Hypothesis, ART:Goal, ART:Object, DRI:Challenge, PMD:OBJECTIVE\n",
      "3: ART:Experiment, ART:Model, ART:Method, DRI:Approach, PMD:METHODS, NIC:intervention, NIC:study design, NIC:population, NIC:other\n",
      "4: ART:Observation, ART:Result, DRI:Outcome, PMD:RESULTS, NIC:outcome\n",
      "5: ART:Conclusion, PMD:CONCLUSIONS\n",
      "6: DRI:FutureWork\n"
     ]
    }
   ],
   "source": [
    "ART_LABELS_TO_GENERIC = {\"mask\": \"mask\", \"Background\": \"Background\", \"Motivation\": \"Background\", \"Hypothesis\": \"Problem\", \"Goal\": \"Problem\", \"Object\": \"Problem\", \"Experiment\": \"Method\", \"Model\": \"Method\", \"Method\": \"Method\", \"Observation\": \"Result\", \"Result\": \"Result\", \"Conclusion\": \"Conclusion\"}\n",
    "DRI_LABELS_TO_GENERIC = {\"mask\": \"mask\", \"Background\": \"Background\", \"Challenge\": \"Problem\", \"Approach\": \"Method\", \"Outcome\": \"Result\", \"FutureWork\": \"Future Work\"}\n",
    "PUBMED_LABELS_TO_GENERIC = {\"mask\": \"mask\", \"BACKGROUND\": \"Background\", \"OBJECTIVE\": \"Problem\", \"METHODS\":  \"Method\", \"RESULTS\": \"Result\", \"CONCLUSIONS\": \"Conclusion\"}\n",
    "NICTA_LABELS_TO_GENERIC = {\"mask\": \"mask\", \"background\": \"Background\", \"intervention\": \"Method\", \"study design\": \"Method\", \"population\": \"Method\", \"outcome\": \"Result\", \"other\": \"Method\"}\n",
    "\n",
    "classes = {}\n",
    "datasets = [ART_LABELS_TO_GENERIC, DRI_LABELS_TO_GENERIC, PUBMED_LABELS_TO_GENERIC, NICTA_LABELS_TO_GENERIC]\n",
    "names = ['ART', 'DRI', 'PMD', 'NIC']\n",
    "\n",
    "for dataset, name in zip(datasets, names):\n",
    "    for k, v in dataset.items():\n",
    "        classes.setdefault(v, [])\n",
    "        classes[v].append(name + ':' + k)\n",
    "\n",
    "for i, cl in enumerate(classes.values()):\n",
    "    print(f'{i}: {\", \".join(cl)}')\n"
   ]
  }
 ],
 "metadata": {
  "kernelspec": {
   "display_name": "Python 3",
   "language": "python",
   "name": "python3"
  },
  "language_info": {
   "codemirror_mode": {
    "name": "ipython",
    "version": 3
   },
   "file_extension": ".py",
   "mimetype": "text/x-python",
   "name": "python",
   "nbconvert_exporter": "python",
   "pygments_lexer": "ipython3",
   "version": "3.11.3"
  },
  "orig_nbformat": 4
 },
 "nbformat": 4,
 "nbformat_minor": 2
}
